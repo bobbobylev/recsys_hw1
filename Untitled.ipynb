{
 "cells": [
  {
   "cell_type": "code",
   "execution_count": 14,
   "metadata": {},
   "outputs": [],
   "source": [
    "import pandas as pd\n",
    "import numpy as np\n",
    "import matplotlib.pyplot as plt\n",
    "from tqdm import tqdm_notebook"
   ]
  },
  {
   "cell_type": "code",
   "execution_count": 2,
   "metadata": {},
   "outputs": [],
   "source": [
    "links = pd.read_csv('links.csv')\n",
    "movies = pd.read_csv('movies.csv')\n",
    "ratings = pd.read_csv('ratings.csv')\n",
    "tags = pd.read_csv('tags.csv')"
   ]
  },
  {
   "cell_type": "code",
   "execution_count": 3,
   "metadata": {},
   "outputs": [],
   "source": [
    "joined_ratings = ratings.join(movies.set_index('movieId'), on='movieId')"
   ]
  },
  {
   "cell_type": "code",
   "execution_count": 5,
   "metadata": {},
   "outputs": [
    {
     "data": {
      "text/html": [
       "<div>\n",
       "<style scoped>\n",
       "    .dataframe tbody tr th:only-of-type {\n",
       "        vertical-align: middle;\n",
       "    }\n",
       "\n",
       "    .dataframe tbody tr th {\n",
       "        vertical-align: top;\n",
       "    }\n",
       "\n",
       "    .dataframe thead th {\n",
       "        text-align: right;\n",
       "    }\n",
       "</style>\n",
       "<table border=\"1\" class=\"dataframe\">\n",
       "  <thead>\n",
       "    <tr style=\"text-align: right;\">\n",
       "      <th></th>\n",
       "      <th>userId</th>\n",
       "      <th>movieId</th>\n",
       "      <th>rating</th>\n",
       "      <th>timestamp</th>\n",
       "      <th>title</th>\n",
       "      <th>genres</th>\n",
       "    </tr>\n",
       "  </thead>\n",
       "  <tbody>\n",
       "    <tr>\n",
       "      <th>0</th>\n",
       "      <td>1</td>\n",
       "      <td>1</td>\n",
       "      <td>4.0</td>\n",
       "      <td>964982703</td>\n",
       "      <td>Toy Story (1995)</td>\n",
       "      <td>Adventure|Animation|Children|Comedy|Fantasy</td>\n",
       "    </tr>\n",
       "    <tr>\n",
       "      <th>1</th>\n",
       "      <td>1</td>\n",
       "      <td>3</td>\n",
       "      <td>4.0</td>\n",
       "      <td>964981247</td>\n",
       "      <td>Grumpier Old Men (1995)</td>\n",
       "      <td>Comedy|Romance</td>\n",
       "    </tr>\n",
       "    <tr>\n",
       "      <th>2</th>\n",
       "      <td>1</td>\n",
       "      <td>6</td>\n",
       "      <td>4.0</td>\n",
       "      <td>964982224</td>\n",
       "      <td>Heat (1995)</td>\n",
       "      <td>Action|Crime|Thriller</td>\n",
       "    </tr>\n",
       "    <tr>\n",
       "      <th>3</th>\n",
       "      <td>1</td>\n",
       "      <td>47</td>\n",
       "      <td>5.0</td>\n",
       "      <td>964983815</td>\n",
       "      <td>Seven (a.k.a. Se7en) (1995)</td>\n",
       "      <td>Mystery|Thriller</td>\n",
       "    </tr>\n",
       "    <tr>\n",
       "      <th>4</th>\n",
       "      <td>1</td>\n",
       "      <td>50</td>\n",
       "      <td>5.0</td>\n",
       "      <td>964982931</td>\n",
       "      <td>Usual Suspects, The (1995)</td>\n",
       "      <td>Crime|Mystery|Thriller</td>\n",
       "    </tr>\n",
       "  </tbody>\n",
       "</table>\n",
       "</div>"
      ],
      "text/plain": [
       "   userId  movieId  rating  timestamp                        title  \\\n",
       "0       1        1     4.0  964982703             Toy Story (1995)   \n",
       "1       1        3     4.0  964981247      Grumpier Old Men (1995)   \n",
       "2       1        6     4.0  964982224                  Heat (1995)   \n",
       "3       1       47     5.0  964983815  Seven (a.k.a. Se7en) (1995)   \n",
       "4       1       50     5.0  964982931   Usual Suspects, The (1995)   \n",
       "\n",
       "                                        genres  \n",
       "0  Adventure|Animation|Children|Comedy|Fantasy  \n",
       "1                               Comedy|Romance  \n",
       "2                        Action|Crime|Thriller  \n",
       "3                             Mystery|Thriller  \n",
       "4                       Crime|Mystery|Thriller  "
      ]
     },
     "execution_count": 5,
     "metadata": {},
     "output_type": "execute_result"
    }
   ],
   "source": [
    "joined_ratings.head()"
   ]
  },
  {
   "cell_type": "code",
   "execution_count": 10,
   "metadata": {},
   "outputs": [],
   "source": [
    "animation = joined_ratings[joined_ratings['genres'].str.contains(\"Animation\")]\n",
    "crime = joined_ratings[joined_ratings['genres'].str.contains(\"Crime\")]"
   ]
  },
  {
   "cell_type": "markdown",
   "metadata": {},
   "source": [
    "## Использую пример с лекции"
   ]
  },
  {
   "cell_type": "code",
   "execution_count": 15,
   "metadata": {},
   "outputs": [
    {
     "data": {
      "application/vnd.jupyter.widget-view+json": {
       "model_id": "47e83e5fed164095bc1f0c6f079d3069",
       "version_major": 2,
       "version_minor": 0
      },
      "text/plain": [
       "HBox(children=(IntProgress(value=0, max=610), HTML(value='')))"
      ]
     },
     "metadata": {},
     "output_type": "display_data"
    },
    {
     "name": "stdout",
     "output_type": "stream",
     "text": [
      "\n"
     ]
    },
    {
     "data": {
      "application/vnd.jupyter.widget-view+json": {
       "model_id": "6025187fb25442beac2fbffc50944abc",
       "version_major": 2,
       "version_minor": 0
      },
      "text/plain": [
       "HBox(children=(IntProgress(value=0, max=1195), HTML(value='')))"
      ]
     },
     "metadata": {},
     "output_type": "display_data"
    },
    {
     "name": "stdout",
     "output_type": "stream",
     "text": [
      "\n"
     ]
    }
   ],
   "source": [
    "title_num_ratings_ani = {}\n",
    "\n",
    "for title, group in tqdm_notebook(animation.groupby('title')):\n",
    "    title_num_ratings_ani[title] = group.userId.unique().shape[0]\n",
    "    \n",
    "title_num_ratings_cri = {}\n",
    "\n",
    "for title, group in tqdm_notebook(crime.groupby('title')):\n",
    "    title_num_ratings_cri[title] = group.userId.unique().shape[0]    "
   ]
  },
  {
   "cell_type": "code",
   "execution_count": 16,
   "metadata": {},
   "outputs": [],
   "source": [
    "min_num_ratings_ani = np.min([title_num_ratings_ani[f] for f in title_num_ratings_ani.keys()])\n",
    "max_num_ratings_ani = np.max([title_num_ratings_ani[f] for f in title_num_ratings_ani.keys()])\n",
    "mean_num_ratings_ani = np.mean([title_num_ratings_ani[f] for f in title_num_ratings_ani.keys()])\n",
    "median_num_ratings_ani = np.median([title_num_ratings_ani[f] for f in title_num_ratings_ani.keys()])\n",
    "\n",
    "min_num_ratings_cri = np.min([title_num_ratings_cri[f] for f in title_num_ratings_cri.keys()])\n",
    "max_num_ratings_cri = np.max([title_num_ratings_cri[f] for f in title_num_ratings_cri.keys()])\n",
    "mean_num_ratings_cri = np.mean([title_num_ratings_cri[f] for f in title_num_ratings_cri.keys()])\n",
    "median_num_ratings_cri = np.median([title_num_ratings_cri[f] for f in title_num_ratings_cri.keys()])"
   ]
  },
  {
   "cell_type": "code",
   "execution_count": 17,
   "metadata": {},
   "outputs": [
    {
     "data": {
      "application/vnd.jupyter.widget-view+json": {
       "model_id": "1d47dcf97e1a44e88112c6cec7c311be",
       "version_major": 2,
       "version_minor": 0
      },
      "text/plain": [
       "HBox(children=(IntProgress(value=0, max=610), HTML(value='')))"
      ]
     },
     "metadata": {},
     "output_type": "display_data"
    },
    {
     "name": "stdout",
     "output_type": "stream",
     "text": [
      "\n"
     ]
    },
    {
     "data": {
      "application/vnd.jupyter.widget-view+json": {
       "model_id": "b614271c1ff44221b36a6c846b8f5ff3",
       "version_major": 2,
       "version_minor": 0
      },
      "text/plain": [
       "HBox(children=(IntProgress(value=0, max=1195), HTML(value='')))"
      ]
     },
     "metadata": {},
     "output_type": "display_data"
    },
    {
     "name": "stdout",
     "output_type": "stream",
     "text": [
      "\n"
     ]
    }
   ],
   "source": [
    "title_mean_rating_ani = {}\n",
    "\n",
    "for title, group in tqdm_notebook(animation.groupby('title')):\n",
    "    title_mean_rating_ani[title] = group.rating.mean()\n",
    "    \n",
    "title_mean_rating_cri = {}\n",
    "\n",
    "for title, group in tqdm_notebook(crime.groupby('title')):\n",
    "    title_mean_rating_cri[title] = group.rating.mean()    "
   ]
  },
  {
   "cell_type": "code",
   "execution_count": 18,
   "metadata": {},
   "outputs": [],
   "source": [
    "film_with_our_mark_ani = []\n",
    "\n",
    "\n",
    "for f in title_num_ratings_ani.keys():\n",
    "    film_with_our_mark_ani.append(\n",
    "        (f, title_mean_rating_ani[f] * (title_num_ratings_ani[f] - mean_num_ratings_ani) / (max_num_ratings_ani - min_num_ratings_ani))\n",
    "    )\n",
    "    \n",
    "film_with_our_mark_cri = []\n",
    "\n",
    "\n",
    "for f in title_num_ratings_cri.keys():\n",
    "    film_with_our_mark_cri.append(\n",
    "        (f, title_mean_rating_cri[f] * (title_num_ratings_cri[f] - mean_num_ratings_cri) / (max_num_ratings_cri - min_num_ratings_cri))\n",
    "    )    "
   ]
  },
  {
   "cell_type": "markdown",
   "metadata": {},
   "source": [
    "## ТОП мультиков"
   ]
  },
  {
   "cell_type": "code",
   "execution_count": 19,
   "metadata": {},
   "outputs": [
    {
     "data": {
      "text/plain": [
       "[('Toy Story (1995)', 3.7293591200772465),\n",
       " ('Aladdin (1992)', 3.0399805431997065),\n",
       " ('Lion King, The (1994)', 2.957210656272158),\n",
       " ('Shrek (2001)', 2.865389017565047),\n",
       " ('Finding Nemo (2003)', 2.3977752532578807),\n",
       " ('Beauty and the Beast (1991)', 2.3705868772706),\n",
       " ('Monsters, Inc. (2001)', 2.180618735230348),\n",
       " ('Incredibles, The (2004)', 2.0353074306725905),\n",
       " ('WALL·E (2008)', 1.754748323531838),\n",
       " ('Up (2009)', 1.7505724207869144),\n",
       " ('Toy Story 2 (1999)', 1.5433243197566333),\n",
       " ('Spirited Away (Sen to Chihiro no kamikakushi) (2001)', 1.466819788359229),\n",
       " ('Who Framed Roger Rabbit? (1988)', 1.4279355855692217),\n",
       " ('Nightmare Before Christmas, The (1993)', 1.3541542904494317),\n",
       " ('Shrek 2 (2004)', 1.3459499337201324),\n",
       " (\"Bug's Life, A (1998)\", 1.323449250937577),\n",
       " ('Ice Age (2002)', 1.2675165601708738),\n",
       " ('South Park: Bigger, Longer and Uncut (1999)', 1.1647651859079289),\n",
       " ('Snow White and the Seven Dwarfs (1937)', 1.1077847462786945),\n",
       " ('Chicken Run (2000)', 1.1042871229174276)]"
      ]
     },
     "execution_count": 19,
     "metadata": {},
     "output_type": "execute_result"
    }
   ],
   "source": [
    "list(sorted(film_with_our_mark_ani, key=lambda x: x[1], reverse=True))[:20]"
   ]
  },
  {
   "cell_type": "markdown",
   "metadata": {},
   "source": [
    "## ТОП криминальных фильмов"
   ]
  },
  {
   "cell_type": "code",
   "execution_count": 20,
   "metadata": {},
   "outputs": [
    {
     "data": {
      "text/plain": [
       "[('Shawshank Redemption, The (1994)', 4.2474019164025325),\n",
       " ('Pulp Fiction (1994)', 3.892141303487107),\n",
       " ('Silence of the Lambs, The (1991)', 3.4902406583850296),\n",
       " ('Fight Club (1999)', 2.759043300653198),\n",
       " ('Usual Suspects, The (1995)', 2.5485724054994594),\n",
       " ('Godfather, The (1972)', 2.41655880912028),\n",
       " ('Fargo (1996)', 2.175784522486138),\n",
       " ('Batman (1989)', 1.8991881483274946),\n",
       " ('Dark Knight, The (2008)', 1.8112081087873217),\n",
       " ('Inception (2010)', 1.6605698535879674),\n",
       " ('Die Hard (1988)', 1.6015589472357727),\n",
       " ('Reservoir Dogs (1992)', 1.5564676169872294),\n",
       " ('Godfather: Part II, The (1974)', 1.5507676290795593),\n",
       " ('American History X (1998)', 1.535245842073304),\n",
       " ('Léon: The Professional (a.k.a. The Professional) (Léon) (1994)',\n",
       "  1.5139398500222805),\n",
       " ('Goodfellas (1990)', 1.5068918489486787),\n",
       " ('Kill Bill: Vol. 1 (2003)', 1.4674054372686143),\n",
       " ('Die Hard: With a Vengeance (1995)', 1.4631993361933513),\n",
       " ('Mask, The (1994)', 1.4416052669130868),\n",
       " ('Clockwork Orange, A (1971)', 1.3409035538371907)]"
      ]
     },
     "execution_count": 20,
     "metadata": {},
     "output_type": "execute_result"
    }
   ],
   "source": [
    "list(sorted(film_with_our_mark_cri, key=lambda x: x[1], reverse=True))[:20]"
   ]
  },
  {
   "cell_type": "markdown",
   "metadata": {},
   "source": []
  },
  {
   "cell_type": "code",
   "execution_count": 48,
   "metadata": {},
   "outputs": [],
   "source": []
  },
  {
   "cell_type": "code",
   "execution_count": null,
   "metadata": {},
   "outputs": [],
   "source": []
  }
 ],
 "metadata": {
  "kernelspec": {
   "display_name": "Python 3",
   "language": "python",
   "name": "python3"
  },
  "language_info": {
   "codemirror_mode": {
    "name": "ipython",
    "version": 3
   },
   "file_extension": ".py",
   "mimetype": "text/x-python",
   "name": "python",
   "nbconvert_exporter": "python",
   "pygments_lexer": "ipython3",
   "version": "3.7.3"
  }
 },
 "nbformat": 4,
 "nbformat_minor": 2
}
